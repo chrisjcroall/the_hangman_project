{
  "nbformat": 4,
  "nbformat_minor": 0,
  "metadata": {
    "colab": {
      "provenance": []
    },
    "kernelspec": {
      "name": "python3",
      "display_name": "Python 3"
    },
    "language_info": {
      "name": "python"
    }
  },
  "cells": [
    {
      "cell_type": "markdown",
      "source": [
        "HANGMAN GAME"
      ],
      "metadata": {
        "id": "rM5CAqj8rLH_"
      }
    },
    {
      "cell_type": "code",
      "source": [
        "pip install playsound"
      ],
      "metadata": {
        "colab": {
          "base_uri": "https://localhost:8080/"
        },
        "id": "P6Cggzqiqo9j",
        "outputId": "b4e5aae5-a83b-4634-b71a-c27fd16ce77f"
      },
      "execution_count": null,
      "outputs": [
        {
          "output_type": "stream",
          "name": "stdout",
          "text": [
            "Looking in indexes: https://pypi.org/simple, https://us-python.pkg.dev/colab-wheels/public/simple/\n",
            "Collecting playsound\n",
            "  Downloading playsound-1.3.0.tar.gz (7.7 kB)\n",
            "  Preparing metadata (setup.py) ... \u001b[?25l\u001b[?25hdone\n",
            "Building wheels for collected packages: playsound\n",
            "  Building wheel for playsound (setup.py) ... \u001b[?25l\u001b[?25hdone\n",
            "  Created wheel for playsound: filename=playsound-1.3.0-py3-none-any.whl size=7038 sha256=e17146c314e3aba59b73ed345f88dffbaafceca147f33b83e09545fe3066127b\n",
            "  Stored in directory: /root/.cache/pip/wheels/73/cd/cf/9750b618d54bd81c20e4c34fb24a423a5b095920367cdb3f71\n",
            "Successfully built playsound\n",
            "Installing collected packages: playsound\n",
            "Successfully installed playsound-1.3.0\n"
          ]
        }
      ]
    },
    {
      "cell_type": "code",
      "source": [
        "!pip install english-words==1.1.0\n"
      ],
      "metadata": {
        "colab": {
          "base_uri": "https://localhost:8080/"
        },
        "id": "qUJiiVgGqrd_",
        "outputId": "4498ffb8-f9fe-4cb7-b611-c5227efa884d"
      },
      "execution_count": null,
      "outputs": [
        {
          "output_type": "stream",
          "name": "stdout",
          "text": [
            "Looking in indexes: https://pypi.org/simple, https://us-python.pkg.dev/colab-wheels/public/simple/\n",
            "Collecting english-words==1.1.0\n",
            "  Downloading english-words-1.1.0.tar.gz (1.1 MB)\n",
            "\u001b[2K     \u001b[90m━━━━━━━━━━━━━━━━━━━━━━━━━━━━━━━━━━━━━━━━\u001b[0m \u001b[32m1.1/1.1 MB\u001b[0m \u001b[31m16.3 MB/s\u001b[0m eta \u001b[36m0:00:00\u001b[0m\n",
            "\u001b[?25h  Preparing metadata (setup.py) ... \u001b[?25l\u001b[?25hdone\n",
            "Building wheels for collected packages: english-words\n",
            "  Building wheel for english-words (setup.py) ... \u001b[?25l\u001b[?25hdone\n",
            "  Created wheel for english-words: filename=english_words-1.1.0-py3-none-any.whl size=1106679 sha256=96645740180869a801e0e4777d0631b486840438f7cd5840faba35ffab87a766\n",
            "  Stored in directory: /root/.cache/pip/wheels/e2/38/3c/b74099fc9935626eaa66b3a7db38d6f1eeb084648e6094e51f\n",
            "Successfully built english-words\n",
            "Installing collected packages: english-words\n",
            "Successfully installed english-words-1.1.0\n"
          ]
        }
      ]
    },
    {
      "cell_type": "code",
      "execution_count": 25,
      "metadata": {
        "colab": {
          "base_uri": "https://localhost:8080/",
          "height": 502
        },
        "id": "2J1s_oXanrfa",
        "outputId": "9811cb4f-77de-4199-9be9-beb8a5f4d34f"
      },
      "outputs": [
        {
          "output_type": "stream",
          "name": "stdout",
          "text": [
            "🤔Welcome to Hangman💭\n",
            "==============================================================\n",
            "Are you ready to play? Yes/No: yes\n",
            "Great! Lets play Hangman\n",
            "Hidden word is --------\n",
            "==============================================================\n",
            "Pick a letter:\n"
          ]
        },
        {
          "output_type": "error",
          "ename": "KeyboardInterrupt",
          "evalue": "ignored",
          "traceback": [
            "\u001b[0;31m---------------------------------------------------------------------------\u001b[0m",
            "\u001b[0;31mKeyboardInterrupt\u001b[0m                         Traceback (most recent call last)",
            "\u001b[0;32m<ipython-input-25-628119846e09>\u001b[0m in \u001b[0;36m<module>\u001b[0;34m\u001b[0m\n\u001b[1;32m     34\u001b[0m \u001b[0;34m\u001b[0m\u001b[0m\n\u001b[1;32m     35\u001b[0m     \u001b[0mprint\u001b[0m\u001b[0;34m(\u001b[0m\u001b[0;34m'Pick a letter:'\u001b[0m\u001b[0;34m)\u001b[0m\u001b[0;34m\u001b[0m\u001b[0;34m\u001b[0m\u001b[0m\n\u001b[0;32m---> 36\u001b[0;31m     \u001b[0mpicked_letter\u001b[0m \u001b[0;34m=\u001b[0m \u001b[0minput\u001b[0m\u001b[0;34m(\u001b[0m\u001b[0;34m)\u001b[0m\u001b[0;34m.\u001b[0m\u001b[0mcapitalize\u001b[0m\u001b[0;34m(\u001b[0m\u001b[0;34m)\u001b[0m\u001b[0;34m\u001b[0m\u001b[0;34m\u001b[0m\u001b[0m\n\u001b[0m\u001b[1;32m     37\u001b[0m     \u001b[0;32mfor\u001b[0m \u001b[0mletter\u001b[0m \u001b[0;32min\u001b[0m \u001b[0mword\u001b[0m\u001b[0;34m:\u001b[0m\u001b[0;34m\u001b[0m\u001b[0;34m\u001b[0m\u001b[0m\n\u001b[1;32m     38\u001b[0m \u001b[0;34m\u001b[0m\u001b[0m\n",
            "\u001b[0;32m/usr/local/lib/python3.8/dist-packages/ipykernel/kernelbase.py\u001b[0m in \u001b[0;36mraw_input\u001b[0;34m(self, prompt)\u001b[0m\n\u001b[1;32m    858\u001b[0m                 \u001b[0;34m\"raw_input was called, but this frontend does not support input requests.\"\u001b[0m\u001b[0;34m\u001b[0m\u001b[0;34m\u001b[0m\u001b[0m\n\u001b[1;32m    859\u001b[0m             )\n\u001b[0;32m--> 860\u001b[0;31m         return self._input_request(str(prompt),\n\u001b[0m\u001b[1;32m    861\u001b[0m             \u001b[0mself\u001b[0m\u001b[0;34m.\u001b[0m\u001b[0m_parent_ident\u001b[0m\u001b[0;34m,\u001b[0m\u001b[0;34m\u001b[0m\u001b[0;34m\u001b[0m\u001b[0m\n\u001b[1;32m    862\u001b[0m             \u001b[0mself\u001b[0m\u001b[0;34m.\u001b[0m\u001b[0m_parent_header\u001b[0m\u001b[0;34m,\u001b[0m\u001b[0;34m\u001b[0m\u001b[0;34m\u001b[0m\u001b[0m\n",
            "\u001b[0;32m/usr/local/lib/python3.8/dist-packages/ipykernel/kernelbase.py\u001b[0m in \u001b[0;36m_input_request\u001b[0;34m(self, prompt, ident, parent, password)\u001b[0m\n\u001b[1;32m    902\u001b[0m             \u001b[0;32mexcept\u001b[0m \u001b[0mKeyboardInterrupt\u001b[0m\u001b[0;34m:\u001b[0m\u001b[0;34m\u001b[0m\u001b[0;34m\u001b[0m\u001b[0m\n\u001b[1;32m    903\u001b[0m                 \u001b[0;31m# re-raise KeyboardInterrupt, to truncate traceback\u001b[0m\u001b[0;34m\u001b[0m\u001b[0;34m\u001b[0m\u001b[0;34m\u001b[0m\u001b[0m\n\u001b[0;32m--> 904\u001b[0;31m                 \u001b[0;32mraise\u001b[0m \u001b[0mKeyboardInterrupt\u001b[0m\u001b[0;34m(\u001b[0m\u001b[0;34m\"Interrupted by user\"\u001b[0m\u001b[0;34m)\u001b[0m \u001b[0;32mfrom\u001b[0m \u001b[0;32mNone\u001b[0m\u001b[0;34m\u001b[0m\u001b[0;34m\u001b[0m\u001b[0m\n\u001b[0m\u001b[1;32m    905\u001b[0m             \u001b[0;32mexcept\u001b[0m \u001b[0mException\u001b[0m \u001b[0;32mas\u001b[0m \u001b[0me\u001b[0m\u001b[0;34m:\u001b[0m\u001b[0;34m\u001b[0m\u001b[0;34m\u001b[0m\u001b[0m\n\u001b[1;32m    906\u001b[0m                 \u001b[0mself\u001b[0m\u001b[0;34m.\u001b[0m\u001b[0mlog\u001b[0m\u001b[0;34m.\u001b[0m\u001b[0mwarning\u001b[0m\u001b[0;34m(\u001b[0m\u001b[0;34m\"Invalid Message:\"\u001b[0m\u001b[0;34m,\u001b[0m \u001b[0mexc_info\u001b[0m\u001b[0;34m=\u001b[0m\u001b[0;32mTrue\u001b[0m\u001b[0;34m)\u001b[0m\u001b[0;34m\u001b[0m\u001b[0;34m\u001b[0m\u001b[0m\n",
            "\u001b[0;31mKeyboardInterrupt\u001b[0m: Interrupted by user"
          ]
        }
      ],
      "source": [
        "#Start with welcome\n",
        "print(\"\\N{thinking face}\" + \"Welcome to Hangman\" + \"\\N{thought balloon}\")\n",
        "print('==============================================================')\n",
        "\n",
        "from random import randrange\n",
        "from itertools import count\n",
        "#from english_words import english_words_alpha_set\n",
        "\n",
        "\n",
        "#list_of_words = list(english_words_alpha_set) \n",
        "#word = list_of_words[randrange(len(list_of_words))]\n",
        "\n",
        "# requesting if ready to begin with \"yes\" or \"no\" ans\n",
        "ans = input(\"Are you ready to play? Yes/No: \")\n",
        "if ans.lower() == \"yes\":\n",
        "    print(\"Great! Lets play Hangman\")\n",
        "elif ans.lower() == \"no\":\n",
        "    print(\"Thats ashame! You can play whenever youre ready\")\n",
        "else:\n",
        "      print(\"Please only use yes or no\")\n",
        "\n",
        "# counts the number of words to choose from, with 6 mistakes\n",
        "list_of_words = [\"TRAIN\",\"PLANT\",\"AVENUE\",\"SQL\", \"MOUNTAIN\"]\n",
        "word = list_of_words[randrange(len(list_of_words))]\n",
        "hidden_word = '-'*len(word)\n",
        "print(f\"Hidden word is {hidden_word}\")\n",
        "mistake_count = 6\n",
        "\n",
        "print('==============================================================')\n",
        "\n",
        "while mistake_count > 0 and hidden_word.count('-') != 0:\n",
        "    index_count = 0\n",
        "    letter_count = 0\n",
        "    \n",
        "    print('Pick a letter:')\n",
        "    picked_letter = input().capitalize()\n",
        "    for letter in word:\n",
        "        \n",
        "        if(picked_letter == letter):\n",
        "            hidden_word = hidden_word[:index_count] + picked_letter + hidden_word[index_count+1:]\n",
        "            letter_count += 1\n",
        "        index_count += 1\n",
        "    if(letter_count == 0):\n",
        "        mistake_count -= 1\n",
        "        print(f'WRONG! Number of mistakes left: {mistake_count}')\n",
        "        print([6 - mistake_count])\n",
        "    else:\n",
        "        print(f'CORRECT! There is a letter {picked_letter} in a secret word!')\n",
        "        print(hidden_word)\n",
        "print('==============================================================')\n",
        "if (mistake_count == 0):\n",
        "  print(\"HANGED!!!\" + \"\\N{face without mouth}\" + \"\\N{coffin}\" + \"\\N{ambulance}\" + \"GAMEOVER\")\n",
        "\n",
        " # from playsound import playsound\n",
        " # playsound('/content/drive/MyDrive/sound.mp3')\n",
        "\n",
        "else:\n",
        "    print(\"CONGRATULATIONS!!\" + \"\\N{grinning face}\" + \"\\N{trophy}\")"
      ]
    },
    {
      "cell_type": "code",
      "source": [],
      "metadata": {
        "id": "shVqrSjCnxU2"
      },
      "execution_count": null,
      "outputs": []
    }
  ]
}